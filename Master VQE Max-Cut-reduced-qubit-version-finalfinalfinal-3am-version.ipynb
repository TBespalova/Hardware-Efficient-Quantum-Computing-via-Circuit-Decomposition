{
 "cells": [
  {
   "cell_type": "code",
   "execution_count": 32,
   "metadata": {},
   "outputs": [
    {
     "name": "stderr",
     "output_type": "stream",
     "text": [
      "Credentials are already in use. The existing account in the session will be replaced.\n"
     ]
    },
    {
     "name": "stdout",
     "output_type": "stream",
     "text": [
      "[<IBMQSimulator('ibmq_qasm_simulator') from IBMQ(hub='ibm-q', group='open', project='main')>, <IBMQBackend('ibmqx2') from IBMQ(hub='ibm-q', group='open', project='main')>, <IBMQBackend('ibmq_16_melbourne') from IBMQ(hub='ibm-q', group='open', project='main')>, <IBMQBackend('ibmq_vigo') from IBMQ(hub='ibm-q', group='open', project='main')>, <IBMQBackend('ibmq_ourense') from IBMQ(hub='ibm-q', group='open', project='main')>, <IBMQBackend('ibmq_london') from IBMQ(hub='ibm-q', group='open', project='main')>, <IBMQBackend('ibmq_burlington') from IBMQ(hub='ibm-q', group='open', project='main')>, <IBMQBackend('ibmq_essex') from IBMQ(hub='ibm-q', group='open', project='main')>, <IBMQBackend('ibmq_armonk') from IBMQ(hub='ibm-q', group='open', project='main')>]\n"
     ]
    }
   ],
   "source": [
    "%matplotlib inline\n",
    "# useful additional packages \n",
    "\n",
    "#import math tools\n",
    "import numpy as np\n",
    "\n",
    "# We import the tools to handle general Graphs\n",
    "import networkx as nx\n",
    "\n",
    "# We import plotting tools \n",
    "import matplotlib.pyplot as plt \n",
    "from   matplotlib import cm\n",
    "from   matplotlib.ticker import LinearLocator, FormatStrFormatter\n",
    "\n",
    "# importing Qiskit\n",
    "import qiskit as qk\n",
    "\n",
    "qk.IBMQ.load_account()\n",
    "provider = qk.IBMQ.get_provider(group='open')\n",
    "print(provider.backends())\n",
    "# Run the quantum circuit on a specific backend\n",
    "BACKEND1 = provider.get_backend('ibmq_vigo')\n",
    "# BACKEND1 = qk.Aer.get_backend('qasm_simulator')\n",
    "BACKEND2 = qk.Aer.get_backend('qasm_simulator')\n",
    "backend = qk.Aer.get_backend('qasm_simulator')\n",
    "#backend = provider.get_backend('ibmq_vigo')\n",
    "\n",
    "# from qiskit import Aer, IBMQ\n",
    "# from qiskit.providers.ibmq      import least_busy\n",
    "# from qiskit.tools.monitor       import job_monitor\n",
    "# from qiskit.visualization import plot_histogram\n",
    "\n",
    "import collections\n",
    "\n"
   ]
  },
  {
   "cell_type": "markdown",
   "metadata": {},
   "source": [
    "## Config Parameters and Constants##"
   ]
  },
  {
   "cell_type": "code",
   "execution_count": 2,
   "metadata": {},
   "outputs": [],
   "source": [
    "PI = np.pi\n",
    "NSHOTS = 1024\n",
    "SEED = 12345"
   ]
  },
  {
   "cell_type": "markdown",
   "metadata": {},
   "source": [
    "## Helper Function Definitions"
   ]
  },
  {
   "cell_type": "code",
   "execution_count": 3,
   "metadata": {},
   "outputs": [
    {
     "data": {
      "text/plain": [
       "-1.0"
      ]
     },
     "execution_count": 3,
     "metadata": {},
     "output_type": "execute_result"
    }
   ],
   "source": [
    "def get_ZZ(qbs, pair):\n",
    "    '''\n",
    "    qbs: qubit string i.e. \"0010\"\n",
    "    pair: ZmZn i.e. (0,1)\n",
    "    '''\n",
    "    qbs_r = qbs[::-1]\n",
    "    return -((qbs_r[pair[0]] != qbs_r[pair[1]])-.5) * 2\n",
    "\n",
    "get_ZZ(\"1010\", (1,2))"
   ]
  },
  {
   "cell_type": "code",
   "execution_count": 4,
   "metadata": {},
   "outputs": [],
   "source": [
    "def get_max_cut_value(qbs, pair):\n",
    "    '''\n",
    "    qbs: qubit string i.e. \"0010\"\n",
    "    pair: ZmZn i.e. (0,1)\n",
    "    '''\n",
    "    qbs_r = qbs[::-1]\n",
    "    return (qbs_r[pair[0]] != qbs_r[pair[1]])"
   ]
  },
  {
   "cell_type": "code",
   "execution_count": 5,
   "metadata": {},
   "outputs": [],
   "source": [
    "def make_maxcut_circuit(n, depth, thetas):\n",
    "    '''\n",
    "    n: number of qubits:\n",
    "    depth: number of entanglements; \n",
    "    thetas: the control parameters for VQE; dimension = (n,depth)\n",
    "    '''\n",
    "    # parameter sanity check: check if the dimension is okay\n",
    "    if isinstance(thetas, collections.Iterable) and len(thetas) >= n:\n",
    "        for idx in range(n):\n",
    "            if isinstance(thetas[idx], collections.Iterable) and len(thetas) >= depth: \n",
    "                pass\n",
    "            else:\n",
    "                raise TypeError(\"thetas[%d] is not an iterable or it has dimension smaller than depth = %d\" % (idx,depth))\n",
    "    else:\n",
    "        raise TypeError(\"thetas is not an iterable or it has dimension smaller than n = %d\" % n)\n",
    "        \n",
    "    # construct qubits and classical bits    \n",
    "    qr = qk.QuantumRegister(n, 'q')\n",
    "    cr = qk.ClassicalRegister(n, 'c')\n",
    "    qc = qk.QuantumCircuit(qr, cr)\n",
    "    \n",
    "    for d in range(depth):\n",
    "        # assign parameterized U3\n",
    "        for qb in range(n):\n",
    "            qc.u3(thetas[qb][d],0,0, qr[qb])\n",
    "        # add barrier\n",
    "        qc.barrier(qr)\n",
    "        \n",
    "        # pairwise control Z\n",
    "        for cqb in range(n-1):\n",
    "            qc.cz(qr[cqb],qr[cqb + 1])\n",
    "        pass\n",
    "        # add barrier\n",
    "        qc.barrier(qr)\n",
    "    \n",
    "    # measure z\n",
    "    for qb in range(n):\n",
    "        qc.measure(qr[qb],cr[qb])\n",
    "    return qc,qr,qc\n",
    "\n",
    "\n",
    "def get_orig_maxcut_result(n,depth,default_thetas):\n",
    "    cc,qr,qc = make_maxcut_circuit(n,depth,default_thetas)\n",
    "    {qr[0]: 0,\n",
    "                     qr[1]: 1,\n",
    "                     qr[2]: 2}\n",
    "    job = qk.execute(cc, BACKEND1,shots=NSHOTS, seed_simulator=SEED, \n",
    "                     initial_layout={qr[0]: 0, qr[1] : 1, qr[2] : 3, qr[3] : 4})\n",
    "    result = job.result()\n",
    "    ddict = result.get_counts(0)\n",
    "    for idx in range(2 ** n):\n",
    "        if not (format(idx, \"0%db\" % n) in ddict):\n",
    "            ddict[format(idx,'0%db'% n)] = 0\n",
    "    return ddict"
   ]
  },
  {
   "cell_type": "code",
   "execution_count": 6,
   "metadata": {},
   "outputs": [],
   "source": [
    "def get_reduced_maxcut_result(n, depth, thetas):\n",
    "    '''\n",
    "        returns the result in n qubit space\n",
    "        by default the qubit to be disconnected is the last qubit with index n-1\n",
    "    '''\n",
    "    # parameter sanity check: check if the dimension is okay\n",
    "    if isinstance(thetas, collections.Iterable) and len(thetas) >= n:\n",
    "        for idx in range(n):\n",
    "            if isinstance(thetas[idx], collections.Iterable) and len(thetas) >= depth: \n",
    "                pass\n",
    "            else:\n",
    "                raise TypeError(\"thetas[%d] is not an iterable or it has dimension smaller than depth = %d\" % (idx,depth))\n",
    "    else:\n",
    "        raise TypeError(\"thetas is not an iterable or it has dimension smaller than n = %d\" % n)\n",
    "        \n",
    "    # construct container for n-1 qubit results\n",
    "    final_result = {}\n",
    "    for idx in range(2 ** n):\n",
    "        final_result[format(idx,'0%db'% n)] = 0\n",
    "  \n",
    "    counts = [0 for i in range(6 ** depth)] # keeps track of all the counts of all the power of \n",
    "    for runid in range(6 ** depth):\n",
    "        # the index of the version at each two qubit gate we split\n",
    "        cc_cnts = [ (runid % (6 ** (idx + 1))) // (6 ** idx) for idx in range(depth)]\n",
    "        # construct qubits and classical bits\n",
    "        qr = qk.QuantumRegister(n-1, 'q')\n",
    "        cr = qk.ClassicalRegister(n-1+depth, 'c')\n",
    "        qc = qk.QuantumCircuit(qr, cr)\n",
    "        qc2 =qk.QuantumCircuit(1, 1+depth) \n",
    "      \n",
    "        #coef for each runid\n",
    "        coef = 1\n",
    "\n",
    "        for d in range(depth):\n",
    "            # assign parameterized U3\n",
    "            for qb in range(n-1):\n",
    "                qc.u3(thetas[qb][d],0,0, qr[qb])\n",
    "            qc2.u3(thetas[-1][d],0,0, 0)\n",
    "            \n",
    "            # add barrier\n",
    "            qc.barrier(qr)\n",
    "            qc2.barrier([0])\n",
    "\n",
    "            # pairwise control Z\n",
    "            for cqb in range(n-2):\n",
    "                qc.cz(qr[cqb],qr[cqb + 1])\n",
    "            \n",
    "            # add the virtual two qubit gate on the last qubit\n",
    "            gate_ver = cc_cnts[d] + 1\n",
    "            qa = qr[-1]\n",
    "            qb = 0\n",
    "            if gate_ver == 1:\n",
    "                coef *= 1/2\n",
    "            elif gate_ver == 2:\n",
    "                qc.z(qa)\n",
    "                qc2.z(qb)\n",
    "                coef *= 1/2\n",
    "            elif gate_ver == 3:\n",
    "                qc.measure(qa, cr[n-1+d])\n",
    "                qc2.rz(-np.pi * 1 / 2, qb)\n",
    "    \n",
    "                coef *= -1/2*1\n",
    "            elif gate_ver == 4:\n",
    "                qc.measure(qa, cr[n-1+d])\n",
    "                qc2.rz(-np.pi * -1 / 2, qb)\n",
    "    \n",
    "                coef *= -1/2*-1\n",
    "            elif gate_ver == 5:\n",
    "                qc2.measure(qb, 1+d)\n",
    "                qc.rz(-np.pi * 1 / 2, qa)\n",
    "    \n",
    "                coef *= -1/2*1\n",
    "            elif gate_ver == 6:\n",
    "                qc2.measure(qb, 1+d)\n",
    "                qc.rz(-np.pi * -1 / 2, qa)\n",
    "    \n",
    "                coef *= -1/2*-1\n",
    "            \n",
    "            qc.rz(-np.pi/2,qa)\n",
    "            qc2.rz(-np.pi/2,qb)\n",
    "            qc.barrier(qr)\n",
    "            qc2.barrier([0])\n",
    "    \n",
    "        # measure z\n",
    "        for qb in range(n-1):\n",
    "            qc.measure(qr[qb],cr[qb])\n",
    "        qc2.measure([0], [0])\n",
    "    \n",
    "        # execute experiments\n",
    "        job_tmp_1 = qk.execute(qc, BACKEND1,shots=NSHOTS, seed_simulator=SEED)\n",
    "        job_tmp_2 = qk.execute(qc2, BACKEND2,shots=NSHOTS, seed_simulator=SEED)\n",
    "        result_tmp_2 = job_tmp_2.result()\n",
    "        result_tmp_1 = job_tmp_1.result()\n",
    "        dict_1 = result_tmp_1.get_counts(0)\n",
    "        dict_2 = result_tmp_2.get_counts(0)\n",
    "        \n",
    "        for key1 in dict_1:\n",
    "            coef1 = 1\n",
    "            for i in key1[0:depth]:\n",
    "                coef1 *= 1-int(i)*2\n",
    "            for key2 in dict_2:\n",
    "                coef2 = 1\n",
    "                for i in key2[0:depth]:\n",
    "                    coef2 *= 1-int(i)*2\n",
    "                #print(key2[depth:], ' ', key2[-1])\n",
    "                key = key2[depth:] + key1[depth:]\n",
    "                #print(key)\n",
    "                final_result[key] += coef*coef1*coef2*dict_1[key1]*dict_2[key2]\n",
    "    #print(final_result)\n",
    "    return final_result"
   ]
  },
  {
   "cell_type": "code",
   "execution_count": 7,
   "metadata": {},
   "outputs": [],
   "source": [
    "def get_cost(data, w):\n",
    "    d = len(w)\n",
    "    cnt = np.sum(list(data.values()))\n",
    "    cost = 0\n",
    "    for mm in range(d):\n",
    "        for nn in range(mm+1,d):\n",
    "            cost += w[mm][nn] * np.sum([get_max_cut_value(val,(mm,nn)) * data[val] for val in data])\n",
    "    return cost / cnt"
   ]
  },
  {
   "cell_type": "code",
   "execution_count": 33,
   "metadata": {},
   "outputs": [],
   "source": [
    "def get_real_device_reduced_maxcut_result(n, depth, thetas):\n",
    "    '''\n",
    "        returns the result in n qubit space\n",
    "        by default the qubit to be disconnected is the last qubit with index n-1\n",
    "    '''\n",
    "    # parameter sanity check: check if the dimension is okay\n",
    "    if isinstance(thetas, collections.Iterable) and len(thetas) >= n:\n",
    "        for idx in range(n):\n",
    "            if isinstance(thetas[idx], collections.Iterable) and len(thetas) >= depth: \n",
    "                pass\n",
    "            else:\n",
    "                raise TypeError(\"thetas[%d] is not an iterable or it has dimension smaller than depth = %d\" % (idx,depth))\n",
    "    else:\n",
    "        raise TypeError(\"thetas is not an iterable or it has dimension smaller than n = %d\" % n)\n",
    "        \n",
    "    # construct container for n-1 qubit results\n",
    "    final_result = {}\n",
    "    for idx in range(2 ** n):\n",
    "        final_result[format(idx,'0%db'% n)] = 0\n",
    "  \n",
    "    counts = [0 for i in range(6 ** depth)] # keeps track of all the counts of all the power of \n",
    "    for runid in range(6 ** depth):\n",
    "        # the index of the version at each two qubit gate we split\n",
    "        cc_cnts = [ (runid % (6 ** (idx + 1))) // (6 ** idx) for idx in range(depth)]\n",
    "        # construct qubits and classical bits\n",
    "        qr = qk.QuantumRegister(n-1, 'q')\n",
    "        cr = qk.ClassicalRegister(n-1, 'c')\n",
    "        qc = qk.QuantumCircuit(qr, cr)\n",
    "        qc2 =qk.QuantumCircuit(1, 1) \n",
    "      \n",
    "        #coef for each runid\n",
    "        coef = 1\n",
    "\n",
    "        for d in range(depth):\n",
    "            # assign parameterized U3\n",
    "            for qb in range(n-1):\n",
    "                qc.u3(thetas[qb][d],0,0, qr[qb])\n",
    "            qc2.u3(thetas[-1][d],0,0, 0)\n",
    "            \n",
    "            # add barrier\n",
    "            qc.barrier(qr)\n",
    "            qc2.barrier([0])\n",
    "\n",
    "            # pairwise control Z\n",
    "            for cqb in range(n-2):\n",
    "                qc.cz(qr[cqb],qr[cqb + 1])\n",
    "            \n",
    "            # add the virtual two qubit gate on the last qubit\n",
    "            gate_ver = cc_cnts[d] + 1\n",
    "            qa = qr[-1]\n",
    "            qb = 0\n",
    "            if gate_ver == 1:\n",
    "                coef *= 1/2\n",
    "            elif gate_ver == 2:\n",
    "                qc.z(qa)\n",
    "                qc2.z(qb)\n",
    "                coef *= 1/2\n",
    "            elif gate_ver == 3:\n",
    "                #qc.measure(qa, cr[n-1+d])\n",
    "                qc2.rz(-np.pi * 1 / 2, qb)\n",
    "    \n",
    "                coef *= -1/2*1\n",
    "            elif gate_ver == 4:\n",
    "                #qc.measure(qa, cr[n-1+d])\n",
    "                qc2.rz(-np.pi * -1 / 2, qb)\n",
    "    \n",
    "                coef *= -1/2*-1\n",
    "            elif gate_ver == 5:\n",
    "                #qc2.measure(qb, 1+d)\n",
    "                qc.rz(-np.pi * 1 / 2, qa)\n",
    "    \n",
    "                coef *= -1/2*1\n",
    "            elif gate_ver == 6:\n",
    "                #qc2.measure(qb, 1+d)\n",
    "                qc.rz(-np.pi * -1 / 2, qa)\n",
    "    \n",
    "                coef *= -1/2*-1\n",
    "            \n",
    "            qc.rz(-np.pi/2,qa)\n",
    "            qc2.rz(-np.pi/2,qb)\n",
    "            qc.barrier(qr)\n",
    "            qc2.barrier([0])\n",
    "    \n",
    "        # measure z\n",
    "        for qb in range(n-1):\n",
    "            qc.measure(qr[qb],cr[qb])\n",
    "        qc2.measure([0], [0])\n",
    "    \n",
    "        # execute experiments\n",
    "        job_tmp_1 = qk.execute(qc, BACKEND1,shots=NSHOTS, seed_simulator=SEED)\n",
    "        job_tmp_2 = qk.execute(qc2, BACKEND2,shots=NSHOTS, seed_simulator=SEED)\n",
    "        result_tmp_2 = job_tmp_2.result()\n",
    "        result_tmp_1 = job_tmp_1.result()\n",
    "        dict_1 = result_tmp_1.get_counts(0)\n",
    "        dict_2 = result_tmp_2.get_counts(0)\n",
    "        \n",
    "        \n",
    "        gate_ver = runid + 1\n",
    "        for key1 in dict_1:\n",
    "            coef1 = 1\n",
    "            if gate_ver == 3 or gate_ver == 4:\n",
    "                coef1 = 1-int(key1[0])*2\n",
    "            for key2 in dict_2:\n",
    "                coef2 = 1\n",
    "                if gate_ver == 5 or gate_ver == 6:\n",
    "                    coef1 = 1-int(key2[0])*2\n",
    "                #print(key2[depth:], ' ', key2[-1])\n",
    "                key = key2 + key1\n",
    "                #print(key)\n",
    "                final_result[key] += coef*coef1*coef2*dict_1[key1]*dict_2[key2]\n",
    "    #print(final_result)\n",
    "    return final_result"
   ]
  },
  {
   "cell_type": "markdown",
   "metadata": {},
   "source": [
    "## Qubit Reduction Algorithm##"
   ]
  },
  {
   "cell_type": "code",
   "execution_count": 9,
   "metadata": {},
   "outputs": [
    {
     "name": "stdout",
     "output_type": "stream",
     "text": [
      "{'0010': 8, '0101': 179, '1010': 3, '0111': 38, '0000': 14, '1100': 191, '1101': 145, '1000': 15, '0100': 280, '1111': 25, '1011': 1, '0110': 57, '0011': 5, '1110': 38, '1001': 18, '0001': 7}\n"
     ]
    },
    {
     "data": {
      "image/png": "[encoded data removed]",
      "text/plain": [
       "<Figure size 504x360 with 1 Axes>"
      ]
     },
     "execution_count": 9,
     "metadata": {},
     "output_type": "execute_result"
    }
   ],
   "source": [
    "default_thetas = [[ np.random.rand()*5 for j in range(4)] for i in range(4)]\n",
    "SEED = 11312\n",
    "NSHOTS = 1024\n",
    "final_result = get_orig_maxcut_result(4, 1, default_thetas)\n",
    "print(final_result)\n",
    "final_result_reduced = get_real_device_reduced_maxcut_result(4,1,default_thetas)\n",
    "from qiskit.visualization import plot_histogram\n",
    "plot_histogram([final_result_reduced,final_result], legend=[\"reduced\",\"original\"])"
   ]
  },
  {
   "cell_type": "code",
   "execution_count": 12,
   "metadata": {},
   "outputs": [],
   "source": [
    "# default_thetas = [[ 1 for j in range(4)] for i in range(4)]\n",
    "# SEED = 123\n",
    "# NSHOTS = 1024\n",
    "# final_result = get_orig_maxcut_result(4, 2, default_thetas)\n",
    "# final_result_reduced = get_reduced_maxcut_result(4,2,default_thetas)\n",
    "# from qiskit.visualization import plot_histogram\n",
    "# plot_histogram([final_result_reduced,final_result], legend=[\"reduced\",\"original\"])"
   ]
  },
  {
   "cell_type": "code",
   "execution_count": 34,
   "metadata": {},
   "outputs": [],
   "source": [
    "def SPSA_optimization(n, depth, total_test, w,get_result_func):\n",
    "    global F\n",
    "    global results\n",
    "    L = n*depth\n",
    "    beta = np.ones((L, 1))\n",
    "    for i in range(0, L):\n",
    "        beta[i] = 1\n",
    "    param = [[np.random.rand()*5 for j in range(depth)] for i in range(n)]\n",
    "    for T in range(1, total_test+1):\n",
    "        an = 1 / np.power(T, 0.6)\n",
    "        cn = 0.15 / np.power(T, 1)\n",
    "        delta = np.random.binomial(1, 0.5, L)*2-1\n",
    "        #print(delta)\n",
    "        total = 0 \n",
    "        for i in range(n):\n",
    "            for j in range(depth):\n",
    "                param[i][j] = beta[total] + delta[total]*cn\n",
    "                total = total + 1\n",
    "        #print(param)\n",
    "        \n",
    "        #final_result_reduced = get_reduced_maxcut_result(n, depth, param)\n",
    "        #F_plus = get_cost(final_result_reduced, w)\n",
    "        \n",
    "        \n",
    "        final_result = get_result_func(n, depth, param)\n",
    "        F_plus = get_cost(final_result, w)\n",
    "        \n",
    "        total = 0\n",
    "        for i in range(n):\n",
    "            for j in range(depth):\n",
    "                param[i][j] = beta[total] - delta[total]*cn\n",
    "                total = total + 1\n",
    "        #final_result_reduced = get_reduced_maxcut_result(n, depth, param)\n",
    "        #F_minus = get_cost(final_result_reduced, w)\n",
    "        \n",
    "        \n",
    "        final_result = get_result_func(n, depth, param)\n",
    "        F_minus = get_cost(final_result, w)\n",
    "        \n",
    "        for i in range(L):\n",
    "            beta[i] += an * (F_plus - F_minus) / (2*cn*delta[i])\n",
    "        F.append(F_minus)\n",
    "        print(T, \": \", F_minus)\n",
    "        results = final_result"
   ]
  },
  {
   "cell_type": "code",
   "execution_count": null,
   "metadata": {},
   "outputs": [
    {
     "name": "stdout",
     "output_type": "stream",
     "text": [
      "1 :  1.9735196971525097\n"
     ]
    }
   ],
   "source": [
    "SEED = 43521\n",
    "w = [[0., 1., 1., 1.],[1., 0., 1., 0.],[1., 1., 0., 1.],[1., 0., 1., 0.]]\n",
    "F = []\n",
    "results = []\n",
    "SPSA_optimization(4, 1, 100, w, get_real_device_reduced_maxcut_result)"
   ]
  },
  {
   "cell_type": "code",
   "execution_count": 31,
   "metadata": {},
   "outputs": [
    {
     "name": "stdout",
     "output_type": "stream",
     "text": [
      "{'0000': 13720.0, '0001': 0, '0010': 25480.0, '0011': 0, '0100': 33180.0, '0101': 0, '0110': 70840.0, '0111': 140.0, '1000': 86632.0, '1001': 0, '1010': 160888.0, '1011': 0, '1100': 209508.0, '1101': 0, '1110': 447304.0, '1111': 884.0}\n"
     ]
    }
   ],
   "source": [
    "print(results)"
   ]
  },
  {
   "cell_type": "code",
   "execution_count": 198,
   "metadata": {},
   "outputs": [
    {
     "data": {
      "text/plain": [
       "[2, 3, 5]"
      ]
     },
     "execution_count": 198,
     "metadata": {},
     "output_type": "execute_result"
    }
   ],
   "source": [
    "[ (val % (6 ** (idx + 1))) // (6 ** idx) for idx in range(3)]"
   ]
  },
  {
   "cell_type": "code",
   "execution_count": null,
   "metadata": {},
   "outputs": [],
   "source": [
    "default_thetas = [[ i * PI/4 for j in range(4)] for i in range(4)]\n",
    "cc = make_maxcut_circuit(4,2,default_thetas)\n",
    "cc.draw()"
   ]
  },
  {
   "cell_type": "code",
   "execution_count": 10,
   "metadata": {},
   "outputs": [],
   "source": [
    "FINALCOMPARISONDATA = [final_result_reduced,final_result]"
   ]
  },
  {
   "cell_type": "code",
   "execution_count": 11,
   "metadata": {},
   "outputs": [
    {
     "data": {
      "image/png": "[encoded data removed]",
      "text/plain": [
       "<Figure size 504x360 with 1 Axes>"
      ]
     },
     "execution_count": 11,
     "metadata": {},
     "output_type": "execute_result"
    }
   ],
   "source": [
    "plot_histogram(FINALCOMPARISONDATA)"
   ]
  },
  {
   "cell_type": "code",
   "execution_count": null,
   "metadata": {},
   "outputs": [],
   "source": []
  }
 ],
 "metadata": {
  "kernelspec": {
   "display_name": "Python 3",
   "language": "python",
   "name": "python3"
  },
  "language_info": {
   "codemirror_mode": {
    "name": "ipython",
    "version": 3
   },
   "file_extension": ".py",
   "mimetype": "text/x-python",
   "name": "python",
   "nbconvert_exporter": "python",
   "pygments_lexer": "ipython3",
   "version": "3.7.4"
  }
 },
 "nbformat": 4,
 "nbformat_minor": 2
}
